{
 "cells": [
  {
   "cell_type": "code",
   "execution_count": 1,
   "metadata": {},
   "outputs": [
    {
     "name": "stderr",
     "output_type": "stream",
     "text": [
      "2022-06-30 08:55:23.633511: W tensorflow/stream_executor/platform/default/dso_loader.cc:64] Could not load dynamic library 'libcudart.so.11.0'; dlerror: libcudart.so.11.0: cannot open shared object file: No such file or directory\n",
      "2022-06-30 08:55:23.633550: I tensorflow/stream_executor/cuda/cudart_stub.cc:29] Ignore above cudart dlerror if you do not have a GPU set up on your machine.\n"
     ]
    }
   ],
   "source": [
    "import autokeras as ak\n",
    "import numpy as np\n",
    "import pandas as pd\n",
    "import streamlit as st\n",
    "import tensorflow as tf\n",
    "from tensorflow.keras.models import load_model\n",
    "from tensorflow import keras"
   ]
  },
  {
   "cell_type": "code",
   "execution_count": 2,
   "metadata": {},
   "outputs": [],
   "source": [
    "body = 'Großbritannien will der Ukraine für ihren Abwehrkampf gegen Russland weitere Luftabwehrsysteme, Drohnen und andere Militärausrüstung liefern. \"Britische Waffen, Ausrüstung und Training transformieren die ukrainische Verteidigung gegen diesen Angriff\", sagt Premierminister Boris Johnson am Mittwochabend.'"
   ]
  },
  {
   "cell_type": "code",
   "execution_count": 5,
   "metadata": {},
   "outputs": [
    {
     "name": "stdout",
     "output_type": "stream",
     "text": [
      "WARNING:tensorflow:Detecting that an object or model or tf.train.Checkpoint is being deleted with unrestored values. See the following logs for the specific values in question. To silence these warnings, use `status.expect_partial()`. See https://www.tensorflow.org/api_docs/python/tf/train/Checkpoint#restorefor details about the status object returned by the restore function.\n"
     ]
    },
    {
     "name": "stderr",
     "output_type": "stream",
     "text": [
      "2022-06-30 08:56:20.913 WARNING tensorflow: Detecting that an object or model or tf.train.Checkpoint is being deleted with unrestored values. See the following logs for the specific values in question. To silence these warnings, use `status.expect_partial()`. See https://www.tensorflow.org/api_docs/python/tf/train/Checkpoint#restorefor details about the status object returned by the restore function.\n"
     ]
    },
    {
     "name": "stdout",
     "output_type": "stream",
     "text": [
      "WARNING:tensorflow:An attribute in the restored object could not be found in the checkpoint. Object: (root).layer_with_weights-0._lookup_layer.token_counts, attribute: ['table']\n"
     ]
    },
    {
     "name": "stderr",
     "output_type": "stream",
     "text": [
      "2022-06-30 08:56:20.914 WARNING tensorflow: An attribute in the restored object could not be found in the checkpoint. Object: (root).layer_with_weights-0._lookup_layer.token_counts, attribute: ['table']\n"
     ]
    },
    {
     "name": "stdout",
     "output_type": "stream",
     "text": [
      "1/1 [==============================] - 0s 87ms/step\n"
     ]
    }
   ],
   "source": [
    "topic = load_model(\"keras/topic\", custom_objects=ak.CUSTOM_OBJECTS)\n",
    "text = np.array([body])\n",
    "topic_prob = topic.predict(tf.expand_dims(text, -1)) "
   ]
  },
  {
   "cell_type": "code",
   "execution_count": 6,
   "metadata": {},
   "outputs": [
    {
     "data": {
      "text/plain": [
       "array([[2.65417384e-07, 2.44829903e-11, 5.60477026e-14, 3.68663366e-03,\n",
       "        1.06986214e-07, 5.98945467e-16, 2.28359942e-10, 1.50663038e-08,\n",
       "        1.08853588e-18, 1.26406004e-12, 1.24540895e-06, 5.31272630e-11,\n",
       "        6.23266956e-20, 1.25912301e-11, 6.68779539e-14, 2.07725892e-10,\n",
       "        1.19022978e-08, 1.84084382e-03, 1.79953394e-16, 1.35277680e-13,\n",
       "        3.90536589e-13, 5.01403800e-19, 1.25361414e-18, 5.46340542e-19,\n",
       "        4.39729243e-12, 5.38094554e-17, 7.52022956e-16, 6.75617059e-07,\n",
       "        4.99031007e-01, 1.90633145e-07, 2.77708576e-08, 8.52097351e-11,\n",
       "        5.33653156e-11, 1.20644216e-07, 2.88636983e-07, 5.69533549e-05,\n",
       "        3.77381980e-07, 1.23915374e-02, 1.18729110e-06, 1.32752305e-07,\n",
       "        5.13824894e-09, 3.10446030e-10, 9.66326350e-19, 5.51510482e-08,\n",
       "        5.60082868e-17, 2.04505409e-06, 2.59527427e-10, 6.11689699e-10,\n",
       "        3.53466478e-16, 3.78043263e-10, 3.30583316e-06, 3.42737470e-11,\n",
       "        1.27365176e-11, 6.71883517e-15, 1.59827603e-11, 1.46198191e-03,\n",
       "        4.33151238e-03, 6.14636235e-08]], dtype=float32)"
      ]
     },
     "execution_count": 6,
     "metadata": {},
     "output_type": "execute_result"
    }
   ],
   "source": [
    "topic_prob"
   ]
  }
 ],
 "metadata": {
  "kernelspec": {
   "display_name": "Python 3.10.4 64-bit",
   "language": "python",
   "name": "python3"
  },
  "language_info": {
   "codemirror_mode": {
    "name": "ipython",
    "version": 3
   },
   "file_extension": ".py",
   "mimetype": "text/x-python",
   "name": "python",
   "nbconvert_exporter": "python",
   "pygments_lexer": "ipython3",
   "version": "3.10.4"
  },
  "orig_nbformat": 4,
  "vscode": {
   "interpreter": {
    "hash": "3ad933181bd8a04b432d3370b9dc3b0662ad032c4dfaa4e4f1596c548f763858"
   }
  }
 },
 "nbformat": 4,
 "nbformat_minor": 2
}
