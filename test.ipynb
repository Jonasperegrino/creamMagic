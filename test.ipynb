{
 "cells": [
  {
   "cell_type": "code",
   "execution_count": 1,
   "metadata": {},
   "outputs": [
    {
     "name": "stderr",
     "output_type": "stream",
     "text": [
      "2022-06-30 13:14:26.952956: W tensorflow/stream_executor/platform/default/dso_loader.cc:64] Could not load dynamic library 'libcudart.so.11.0'; dlerror: libcudart.so.11.0: cannot open shared object file: No such file or directory\n",
      "2022-06-30 13:14:26.952999: I tensorflow/stream_executor/cuda/cudart_stub.cc:29] Ignore above cudart dlerror if you do not have a GPU set up on your machine.\n",
      "2022-06-30 13:14:29.650817: W tensorflow/stream_executor/platform/default/dso_loader.cc:64] Could not load dynamic library 'libcuda.so.1'; dlerror: libcuda.so.1: cannot open shared object file: No such file or directory\n",
      "2022-06-30 13:14:29.650855: W tensorflow/stream_executor/cuda/cuda_driver.cc:269] failed call to cuInit: UNKNOWN ERROR (303)\n",
      "2022-06-30 13:14:29.650879: I tensorflow/stream_executor/cuda/cuda_diagnostics.cc:156] kernel driver does not appear to be running on this host (codespaces-326a98): /proc/driver/nvidia/version does not exist\n",
      "2022-06-30 13:14:29.651127: I tensorflow/core/platform/cpu_feature_guard.cc:193] This TensorFlow binary is optimized with oneAPI Deep Neural Network Library (oneDNN) to use the following CPU instructions in performance-critical operations:  AVX2 AVX512F FMA\n",
      "To enable them in other operations, rebuild TensorFlow with the appropriate compiler flags.\n"
     ]
    },
    {
     "name": "stdout",
     "output_type": "stream",
     "text": [
      "WARNING:tensorflow:Detecting that an object or model or tf.train.Checkpoint is being deleted with unrestored values. See the following logs for the specific values in question. To silence these warnings, use `status.expect_partial()`. See https://www.tensorflow.org/api_docs/python/tf/train/Checkpoint#restorefor details about the status object returned by the restore function.\n"
     ]
    },
    {
     "name": "stderr",
     "output_type": "stream",
     "text": [
      "2022-06-30 13:14:30.287 WARNING tensorflow: Detecting that an object or model or tf.train.Checkpoint is being deleted with unrestored values. See the following logs for the specific values in question. To silence these warnings, use `status.expect_partial()`. See https://www.tensorflow.org/api_docs/python/tf/train/Checkpoint#restorefor details about the status object returned by the restore function.\n"
     ]
    },
    {
     "name": "stdout",
     "output_type": "stream",
     "text": [
      "WARNING:tensorflow:An attribute in the restored object could not be found in the checkpoint. Object: (root).layer_with_weights-0._lookup_layer.token_counts, attribute: ['table']\n"
     ]
    },
    {
     "name": "stderr",
     "output_type": "stream",
     "text": [
      "2022-06-30 13:14:30.289 WARNING tensorflow: An attribute in the restored object could not be found in the checkpoint. Object: (root).layer_with_weights-0._lookup_layer.token_counts, attribute: ['table']\n"
     ]
    },
    {
     "name": "stdout",
     "output_type": "stream",
     "text": [
      "WARNING:tensorflow:Detecting that an object or model or tf.train.Checkpoint is being deleted with unrestored values. See the following logs for the specific values in question. To silence these warnings, use `status.expect_partial()`. See https://www.tensorflow.org/api_docs/python/tf/train/Checkpoint#restorefor details about the status object returned by the restore function.\n"
     ]
    },
    {
     "name": "stderr",
     "output_type": "stream",
     "text": [
      "2022-06-30 13:14:30.809 WARNING tensorflow: Detecting that an object or model or tf.train.Checkpoint is being deleted with unrestored values. See the following logs for the specific values in question. To silence these warnings, use `status.expect_partial()`. See https://www.tensorflow.org/api_docs/python/tf/train/Checkpoint#restorefor details about the status object returned by the restore function.\n"
     ]
    },
    {
     "name": "stdout",
     "output_type": "stream",
     "text": [
      "WARNING:tensorflow:An attribute in the restored object could not be found in the checkpoint. Object: (root).layer_with_weights-0._lookup_layer.token_counts, attribute: ['table']\n"
     ]
    },
    {
     "name": "stderr",
     "output_type": "stream",
     "text": [
      "2022-06-30 13:14:30.811 WARNING tensorflow: An attribute in the restored object could not be found in the checkpoint. Object: (root).layer_with_weights-0._lookup_layer.token_counts, attribute: ['table']\n"
     ]
    },
    {
     "name": "stdout",
     "output_type": "stream",
     "text": [
      "WARNING:tensorflow:Detecting that an object or model or tf.train.Checkpoint is being deleted with unrestored values. See the following logs for the specific values in question. To silence these warnings, use `status.expect_partial()`. See https://www.tensorflow.org/api_docs/python/tf/train/Checkpoint#restorefor details about the status object returned by the restore function.\n"
     ]
    },
    {
     "name": "stderr",
     "output_type": "stream",
     "text": [
      "2022-06-30 13:14:31.405 WARNING tensorflow: Detecting that an object or model or tf.train.Checkpoint is being deleted with unrestored values. See the following logs for the specific values in question. To silence these warnings, use `status.expect_partial()`. See https://www.tensorflow.org/api_docs/python/tf/train/Checkpoint#restorefor details about the status object returned by the restore function.\n"
     ]
    },
    {
     "name": "stdout",
     "output_type": "stream",
     "text": [
      "WARNING:tensorflow:An attribute in the restored object could not be found in the checkpoint. Object: (root).layer_with_weights-0._lookup_layer.token_counts, attribute: ['table']\n"
     ]
    },
    {
     "name": "stderr",
     "output_type": "stream",
     "text": [
      "2022-06-30 13:14:31.407 WARNING tensorflow: An attribute in the restored object could not be found in the checkpoint. Object: (root).layer_with_weights-0._lookup_layer.token_counts, attribute: ['table']\n"
     ]
    },
    {
     "name": "stdout",
     "output_type": "stream",
     "text": [
      "WARNING:tensorflow:Detecting that an object or model or tf.train.Checkpoint is being deleted with unrestored values. See the following logs for the specific values in question. To silence these warnings, use `status.expect_partial()`. See https://www.tensorflow.org/api_docs/python/tf/train/Checkpoint#restorefor details about the status object returned by the restore function.\n"
     ]
    },
    {
     "name": "stderr",
     "output_type": "stream",
     "text": [
      "2022-06-30 13:14:31.918 WARNING tensorflow: Detecting that an object or model or tf.train.Checkpoint is being deleted with unrestored values. See the following logs for the specific values in question. To silence these warnings, use `status.expect_partial()`. See https://www.tensorflow.org/api_docs/python/tf/train/Checkpoint#restorefor details about the status object returned by the restore function.\n"
     ]
    },
    {
     "name": "stdout",
     "output_type": "stream",
     "text": [
      "WARNING:tensorflow:An attribute in the restored object could not be found in the checkpoint. Object: (root).layer_with_weights-0._lookup_layer.token_counts, attribute: ['table']\n"
     ]
    },
    {
     "name": "stderr",
     "output_type": "stream",
     "text": [
      "2022-06-30 13:14:31.920 WARNING tensorflow: An attribute in the restored object could not be found in the checkpoint. Object: (root).layer_with_weights-0._lookup_layer.token_counts, attribute: ['table']\n"
     ]
    },
    {
     "name": "stdout",
     "output_type": "stream",
     "text": [
      "WARNING:tensorflow:Detecting that an object or model or tf.train.Checkpoint is being deleted with unrestored values. See the following logs for the specific values in question. To silence these warnings, use `status.expect_partial()`. See https://www.tensorflow.org/api_docs/python/tf/train/Checkpoint#restorefor details about the status object returned by the restore function.\n"
     ]
    },
    {
     "name": "stderr",
     "output_type": "stream",
     "text": [
      "2022-06-30 13:14:32.725 WARNING tensorflow: Detecting that an object or model or tf.train.Checkpoint is being deleted with unrestored values. See the following logs for the specific values in question. To silence these warnings, use `status.expect_partial()`. See https://www.tensorflow.org/api_docs/python/tf/train/Checkpoint#restorefor details about the status object returned by the restore function.\n"
     ]
    },
    {
     "name": "stdout",
     "output_type": "stream",
     "text": [
      "WARNING:tensorflow:An attribute in the restored object could not be found in the checkpoint. Object: (root).layer_with_weights-0._lookup_layer.token_counts, attribute: ['table']\n"
     ]
    },
    {
     "name": "stderr",
     "output_type": "stream",
     "text": [
      "2022-06-30 13:14:32.727 WARNING tensorflow: An attribute in the restored object could not be found in the checkpoint. Object: (root).layer_with_weights-0._lookup_layer.token_counts, attribute: ['table']\n"
     ]
    }
   ],
   "source": [
    "import autokeras as ak\n",
    "import numpy as np\n",
    "import pandas as pd\n",
    "import streamlit as st\n",
    "import tensorflow as tf\n",
    "from tensorflow.keras.models import load_model\n",
    "from tensorflow import keras\n",
    "\n",
    "# models\n",
    "topic = load_model(\"keras/topic\", custom_objects=ak.CUSTOM_OBJECTS)\n",
    "regional = load_model(\"keras/regional\", custom_objects=ak.CUSTOM_OBJECTS)\n",
    "# conversion = load_model(\"keras/topic\", custom_objects=ak.CUSTOM_OBJECTS)\n",
    "reach = load_model(\"keras/reach\", custom_objects=ak.CUSTOM_OBJECTS)\n",
    "engagement = load_model(\"keras/engagement\", custom_objects=ak.CUSTOM_OBJECTS)\n",
    "antichurn = load_model(\"keras/antichurn\", custom_objects=ak.CUSTOM_OBJECTS)"
   ]
  },
  {
   "cell_type": "code",
   "execution_count": 2,
   "metadata": {},
   "outputs": [],
   "source": [
    "body = 'Großbritannien will der Ukraine für ihren Abwehrkampf gegen Russland weitere Luftabwehrsysteme, Drohnen und andere Militärausrüstung liefern. \"Britische Waffen, Ausrüstung und Training transformieren die ukrainische Verteidigung gegen diesen Angriff\", sagt Premierminister Boris Johnson am Mittwochabend.'\n"
   ]
  },
  {
   "cell_type": "code",
   "execution_count": 11,
   "metadata": {},
   "outputs": [
    {
     "name": "stdout",
     "output_type": "stream",
     "text": [
      "1/1 [==============================] - 0s 15ms/step\n"
     ]
    },
    {
     "data": {
      "text/plain": [
       "'politik/ausland'"
      ]
     },
     "execution_count": 11,
     "metadata": {},
     "output_type": "execute_result"
    }
   ],
   "source": [
    "text = np.array([body])\n",
    "pred = topic.predict(tf.expand_dims(text, -1))\n",
    "labels = [\n",
    "    \"gesellschaft\",\n",
    "    \"gesellschaft/bildung\",\n",
    "    \"gesellschaft/familie\",\n",
    "    \"gesellschaft/mensch\",\n",
    "    \"gesellschaft/religion\",\n",
    "    \"gesundheit\",\n",
    "    \"gesundheit/krankheit\",\n",
    "    \"heimat\",\n",
    "    \"heimat/bodensee\",\n",
    "    \"heimat/heimatliebe\",\n",
    "    \"heimat/mensch\",\n",
    "    \"heimat/schweiz\",\n",
    "    \"heimat/stadtentwicklung\",\n",
    "    \"heimat/veranstaltung\",\n",
    "    \"heimat/verein\",\n",
    "    \"heimat/wein\",\n",
    "    \"kultur\",\n",
    "    \"kultur/film\",\n",
    "    \"leben\",\n",
    "    \"leben/alltagshilfe\",\n",
    "    \"leben/freizeit\",\n",
    "    \"leben/grundversorgung\",\n",
    "    \"leben/wohnen\",\n",
    "    \"natur\",\n",
    "    \"natur/tiere\",\n",
    "    \"natur/umwelt\",\n",
    "    \"natur/wetter\",\n",
    "    \"politik\",\n",
    "    \"politik/ausland\",\n",
    "    \"politik/bund\",\n",
    "    \"politik/land\",\n",
    "    \"politik/lokal\",\n",
    "    \"politik/lokal/buergermeisterwahl\",\n",
    "    \"sicherheit\",\n",
    "    \"sicherheit/blaulicht\",\n",
    "    \"sicherheit/justiz\",\n",
    "    \"sicherheit/kriminalitaet\",\n",
    "    \"sport\",\n",
    "    \"sport/eishockey\",\n",
    "    \"sport/fussball\",\n",
    "    \"sport/fussball/wuerzburger-kickers\",\n",
    "    \"verkehr\",\n",
    "    \"verkehr/autoverkehr\",\n",
    "    \"verkehr/flugverkehr\",\n",
    "    \"verkehr/oepv\",\n",
    "    \"wirtschaft\",\n",
    "    \"wirtschaft/arbeit\",\n",
    "    \"wirtschaft/branchen\",\n",
    "    \"wirtschaft/branchen/einzelhandel\",\n",
    "    \"wirtschaft/branchen/gastronomie\",\n",
    "    \"wirtschaft/branchen/landwirtschaft\",\n",
    "    \"wirtschaft/branchen/tourismus\",\n",
    "    \"wirtschaft/energie\",\n",
    "    \"wirtschaft/unternehmen\",\n",
    "    \"wirtschaft/verbraucher\",\n",
    "    \"wissen\",\n",
    "    \"wissen/geschichte\",\n",
    "    \"wissen/wissenschaft\",\n",
    "]\n",
    "\n",
    "labels[np.argmax(pred)]\n"
   ]
  },
  {
   "cell_type": "code",
   "execution_count": 10,
   "metadata": {},
   "outputs": [
    {
     "data": {
      "text/plain": [
       "['input_1']"
      ]
     },
     "execution_count": 10,
     "metadata": {},
     "output_type": "execute_result"
    }
   ],
   "source": [
    "topic."
   ]
  }
 ],
 "metadata": {
  "kernelspec": {
   "display_name": "Python 3.10.4 64-bit",
   "language": "python",
   "name": "python3"
  },
  "language_info": {
   "codemirror_mode": {
    "name": "ipython",
    "version": 3
   },
   "file_extension": ".py",
   "mimetype": "text/x-python",
   "name": "python",
   "nbconvert_exporter": "python",
   "pygments_lexer": "ipython3",
   "version": "3.10.4"
  },
  "orig_nbformat": 4,
  "vscode": {
   "interpreter": {
    "hash": "3ad933181bd8a04b432d3370b9dc3b0662ad032c4dfaa4e4f1596c548f763858"
   }
  }
 },
 "nbformat": 4,
 "nbformat_minor": 2
}
